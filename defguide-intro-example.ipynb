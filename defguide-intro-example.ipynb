{
 "metadata": {
  "name": "",
  "signature": "sha256:69f18b7c13ca39c352b06672d95fb27f58bc383dfca99a56c983dc360e6adb95"
 },
 "nbformat": 3,
 "nbformat_minor": 0,
 "worksheets": [
  {
   "cells": [
    {
     "cell_type": "heading",
     "level": 1,
     "metadata": {},
     "source": [
      "A Tutorial from Definitive Guide"
     ]
    },
    {
     "cell_type": "heading",
     "level": 1,
     "metadata": {},
     "source": [
      "Installation"
     ]
    },
    {
     "cell_type": "markdown",
     "metadata": {},
     "source": [
      "* `pip install elasticsearch`\n",
      "* `./bin/elasticsearch` to start running"
     ]
    },
    {
     "cell_type": "heading",
     "level": 3,
     "metadata": {},
     "source": [
      "Testing the installation"
     ]
    },
    {
     "cell_type": "markdown",
     "metadata": {},
     "source": [
      "To test from a separate terminal window:\n",
      "\n",
      "    curl 'http://localhost:9200/?pretty'\n",
      "    \n",
      "or test from within the notebook:"
     ]
    },
    {
     "cell_type": "code",
     "collapsed": false,
     "input": [
      "%%bash\n",
      "curl 'http://localhost:9200/?pretty'"
     ],
     "language": "python",
     "metadata": {},
     "outputs": [
      {
       "output_type": "stream",
       "stream": "stdout",
       "text": [
        "{\n",
        "  \"status\" : 200,\n",
        "  \"name\" : \"White Tiger\",\n",
        "  \"cluster_name\" : \"elasticsearch\",\n",
        "  \"version\" : {\n",
        "    \"number\" : \"1.4.4\",\n",
        "    \"build_hash\" : \"c88f77ffc81301dfa9dfd81ca2232f09588bd512\",\n",
        "    \"build_timestamp\" : \"2015-02-19T13:05:36Z\",\n",
        "    \"build_snapshot\" : false,\n",
        "    \"lucene_version\" : \"4.10.3\"\n",
        "  },\n",
        "  \"tagline\" : \"You Know, for Search\"\n",
        "}\n"
       ]
      },
      {
       "output_type": "stream",
       "stream": "stderr",
       "text": [
        "  % Total    % Received % Xferd  Average Speed   Time    Time     Time  Current\n",
        "                                 Dload  Upload   Total   Spent    Left  Speed\n",
        "\r",
        "  0     0    0     0    0     0      0      0 --:--:-- --:--:-- --:--:--     0\r",
        "100   339  100   339    0     0  26756      0 --:--:-- --:--:-- --:--:-- 28250\n"
       ]
      }
     ],
     "prompt_number": 7
    },
    {
     "cell_type": "code",
     "collapsed": false,
     "input": [
      "%%bash\n",
      "curl -XGET 'localhost:9200/_count?pretty' -d '\n",
      "{\n",
      "    \"query\": {\n",
      "        \"match_all\": {}\n",
      "    }\n",
      "}'"
     ],
     "language": "python",
     "metadata": {},
     "outputs": [
      {
       "output_type": "stream",
       "stream": "stdout",
       "text": [
        "{\n",
        "  \"count\" : 9,\n",
        "  \"_shards\" : {\n",
        "    \"total\" : 21,\n",
        "    \"successful\" : 21,\n",
        "    \"failed\" : 0\n",
        "  }\n",
        "}\n"
       ]
      },
      {
       "output_type": "stream",
       "stream": "stderr",
       "text": [
        "  % Total    % Received % Xferd  Average Speed   Time    Time     Time  Current\n",
        "                                 Dload  Upload   Total   Spent    Left  Speed\n",
        "\r",
        "  0     0    0     0    0     0      0      0 --:--:-- --:--:-- --:--:--     0\r",
        "100   146  100    97  100    49   2727   1377 --:--:-- --:--:-- --:--:--  2771\n"
       ]
      }
     ],
     "prompt_number": 9
    },
    {
     "cell_type": "heading",
     "level": 2,
     "metadata": {},
     "source": [
      "Tutorial"
     ]
    },
    {
     "cell_type": "code",
     "collapsed": false,
     "input": [
      "from datetime import datetime"
     ],
     "language": "python",
     "metadata": {},
     "outputs": [],
     "prompt_number": 1
    },
    {
     "cell_type": "code",
     "collapsed": false,
     "input": [
      "from elasticsearch import Elasticsearch"
     ],
     "language": "python",
     "metadata": {},
     "outputs": [],
     "prompt_number": 2
    },
    {
     "cell_type": "code",
     "collapsed": false,
     "input": [
      "# by default we connect to localhost:9200\n",
      "es = Elasticsearch()"
     ],
     "language": "python",
     "metadata": {},
     "outputs": [],
     "prompt_number": 3
    },
    {
     "cell_type": "code",
     "collapsed": false,
     "input": [
      "# datetimes will be serialized\n",
      "es.index(index=\"my-index\", doc_type=\"test-type\", id=42, body={\"any\": \"data\", \"timestamp\": datetime.now()})"
     ],
     "language": "python",
     "metadata": {},
     "outputs": [
      {
       "metadata": {},
       "output_type": "pyout",
       "prompt_number": 4,
       "text": [
        "{'_index': 'my-index',\n",
        " 'created': False,\n",
        " '_id': '42',\n",
        " '_version': 6,\n",
        " '_type': 'test-type'}"
       ]
      }
     ],
     "prompt_number": 4
    },
    {
     "cell_type": "code",
     "collapsed": false,
     "input": [
      "# but not deserialized\n",
      "es.get(index=\"my-index\", doc_type=\"test-type\", id=42)['_source']"
     ],
     "language": "python",
     "metadata": {},
     "outputs": [
      {
       "metadata": {},
       "output_type": "pyout",
       "prompt_number": 5,
       "text": [
        "{'timestamp': '2015-03-10T11:02:10.519324', 'any': 'data'}"
       ]
      }
     ],
     "prompt_number": 5
    },
    {
     "cell_type": "heading",
     "level": 2,
     "metadata": {},
     "source": [
      "Example from Elasticsearch Docs"
     ]
    },
    {
     "cell_type": "code",
     "collapsed": false,
     "input": [
      "doc = {\n",
      "    'author': 'kimchy',\n",
      "    'text': 'Elasticsearch: cool. bonsai cool.',\n",
      "    'timestamp': datetime(2010, 10, 10, 10, 10, 10)\n",
      "}"
     ],
     "language": "python",
     "metadata": {},
     "outputs": [],
     "prompt_number": 6
    },
    {
     "cell_type": "code",
     "collapsed": false,
     "input": [
      "res = es.index(index=\"test-index\", doc_type='tweet', id=1, body=doc)\n",
      "print(res['created'])"
     ],
     "language": "python",
     "metadata": {},
     "outputs": [
      {
       "output_type": "stream",
       "stream": "stdout",
       "text": [
        "False\n"
       ]
      }
     ],
     "prompt_number": 7
    },
    {
     "cell_type": "code",
     "collapsed": false,
     "input": [
      "res = es.get(index=\"test-index\", doc_type='tweet', id=1)\n",
      "print(res['_source'])"
     ],
     "language": "python",
     "metadata": {},
     "outputs": [
      {
       "output_type": "stream",
       "stream": "stdout",
       "text": [
        "{'text': 'Elasticsearch: cool. bonsai cool.', 'timestamp': '2010-10-10T10:10:10', 'author': 'kimchy'}\n"
       ]
      }
     ],
     "prompt_number": 8
    },
    {
     "cell_type": "code",
     "collapsed": false,
     "input": [
      "es.indices.refresh(index=\"test-index\")"
     ],
     "language": "python",
     "metadata": {},
     "outputs": [
      {
       "metadata": {},
       "output_type": "pyout",
       "prompt_number": 9,
       "text": [
        "{'_shards': {'successful': 5, 'total': 10, 'failed': 0}}"
       ]
      }
     ],
     "prompt_number": 9
    },
    {
     "cell_type": "code",
     "collapsed": false,
     "input": [
      "res = es.search(index=\"test-index\", body={\"query\": {\"match_all\": {}}})\n",
      "print(\"Got %d Hits:\" % res['hits']['total'])"
     ],
     "language": "python",
     "metadata": {},
     "outputs": [
      {
       "output_type": "stream",
       "stream": "stdout",
       "text": [
        "Got 1 Hits:\n"
       ]
      }
     ],
     "prompt_number": 10
    },
    {
     "cell_type": "code",
     "collapsed": false,
     "input": [
      "for hit in res['hits']['hits']:\n",
      "    print(\"%(timestamp)s %(author)s: %(text)s\" % hit[\"_source\"])"
     ],
     "language": "python",
     "metadata": {},
     "outputs": [
      {
       "output_type": "stream",
       "stream": "stdout",
       "text": [
        "2010-10-10T10:10:10 kimchy: Elasticsearch: cool. bonsai cool.\n"
       ]
      }
     ],
     "prompt_number": 11
    },
    {
     "cell_type": "code",
     "collapsed": false,
     "input": [
      "# Notice increased version\n",
      "es.index(index=\"my-index\", doc_type=\"test-type\", id=42, body={\"any\": \"data\", \"timestamp\": datetime.now()})"
     ],
     "language": "python",
     "metadata": {},
     "outputs": [
      {
       "metadata": {},
       "output_type": "pyout",
       "prompt_number": 23,
       "text": [
        "{'created': False,\n",
        " '_type': 'test-type',\n",
        " '_version': 5,\n",
        " '_id': '42',\n",
        " '_index': 'my-index'}"
       ]
      }
     ],
     "prompt_number": 23
    },
    {
     "cell_type": "code",
     "collapsed": false,
     "input": [
      "es.get(index=\"my-index\", doc_type=\"test-type\", id=42)['_source']"
     ],
     "language": "python",
     "metadata": {},
     "outputs": [
      {
       "metadata": {},
       "output_type": "pyout",
       "prompt_number": 12,
       "text": [
        "{'timestamp': '2015-03-10T11:02:10.519324', 'any': 'data'}"
       ]
      }
     ],
     "prompt_number": 12
    },
    {
     "cell_type": "code",
     "collapsed": false,
     "input": [
      "%%bash\n",
      "curl 'http://localhost:9200/?pretty'"
     ],
     "language": "python",
     "metadata": {},
     "outputs": [
      {
       "output_type": "stream",
       "stream": "stdout",
       "text": [
        "{\n",
        "  \"status\" : 200,\n",
        "  \"name\" : \"White Tiger\",\n",
        "  \"cluster_name\" : \"elasticsearch\",\n",
        "  \"version\" : {\n",
        "    \"number\" : \"1.4.4\",\n",
        "    \"build_hash\" : \"c88f77ffc81301dfa9dfd81ca2232f09588bd512\",\n",
        "    \"build_timestamp\" : \"2015-02-19T13:05:36Z\",\n",
        "    \"build_snapshot\" : false,\n",
        "    \"lucene_version\" : \"4.10.3\"\n",
        "  },\n",
        "  \"tagline\" : \"You Know, for Search\"\n",
        "}\n"
       ]
      },
      {
       "output_type": "stream",
       "stream": "stderr",
       "text": [
        "  % Total    % Received % Xferd  Average Speed   Time    Time     Time  Current\n",
        "                                 Dload  Upload   Total   Spent    Left  Speed\n",
        "\r",
        "  0     0    0     0    0     0      0      0 --:--:-- --:--:-- --:--:--     0\r",
        "100   339  100   339    0     0  32242      0 --:--:-- --:--:-- --:--:-- 33900\n"
       ]
      }
     ],
     "prompt_number": 3
    },
    {
     "cell_type": "code",
     "collapsed": false,
     "input": [],
     "language": "python",
     "metadata": {},
     "outputs": []
    }
   ],
   "metadata": {}
  }
 ]
}