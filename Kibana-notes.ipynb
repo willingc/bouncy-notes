{
 "metadata": {
  "name": "",
  "signature": "sha256:f647220c47136566552689aad4f57435270dc0e81df5969c807ce732c2c6334a"
 },
 "nbformat": 3,
 "nbformat_minor": 0,
 "worksheets": [
  {
   "cells": [
    {
     "cell_type": "markdown",
     "metadata": {},
     "source": [
      "* Download: http://www.elasticsearch.org/overview/kibana/installation/\n",
      "* Run bin/kibana on unix, or bin\\kibana.bat on Windows.\n",
      "* Visit http://localhost:5601"
     ]
    },
    {
     "cell_type": "markdown",
     "metadata": {},
     "source": [
      "Q: How do you load an external visualization from IPython notebook or other?"
     ]
    },
    {
     "cell_type": "markdown",
     "metadata": {},
     "source": [
      "Looks like in Kibana 4\n",
      "\n",
      "* Easy to access and export the data behind any visualization:\n",
      "  * View in a table or view as JSON\n",
      "  * Export in CSV format\n",
      "  * See the Elasticsearch request and response\n",
      "* Share and embed individual visualizations as well as dashboards"
     ]
    },
    {
     "cell_type": "markdown",
     "metadata": {},
     "source": [
      "The first screen you arrive at will ask you to configure an index pattern. An index pattern describes to Kibana how to access your data. We make the guess that you're working with log data, and we hope (because it's awesome) that you're working with Logstash. By default, we fill in logstash-* as your index pattern, thus the only thing you need to do is select which field contains the timestamp you'd like to use. Kibana reads your Elasticsearch mapping to find your time fields - select one from the list and hit Create."
     ]
    },
    {
     "cell_type": "markdown",
     "metadata": {},
     "source": [
      "Very intuitive. Dashboard layouts."
     ]
    },
    {
     "cell_type": "code",
     "collapsed": false,
     "input": [],
     "language": "python",
     "metadata": {},
     "outputs": []
    }
   ],
   "metadata": {}
  }
 ]
}