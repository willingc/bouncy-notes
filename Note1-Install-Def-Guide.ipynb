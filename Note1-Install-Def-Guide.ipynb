{
 "metadata": {
  "name": "",
  "signature": "sha256:67edeeed9afa28787e99a48f5c8ab61d55372975ddbd203f3576fa9a58dc11d6"
 },
 "nbformat": 3,
 "nbformat_minor": 0,
 "worksheets": [
  {
   "cells": [
    {
     "cell_type": "markdown",
     "metadata": {},
     "source": [
      "Visit this link for installation information\n",
      "\n",
      "https://www.elastic.co/guide/en/elasticsearch/guide/current/_installing_elasticsearch.html"
     ]
    },
    {
     "cell_type": "markdown",
     "metadata": {},
     "source": [
      "Running and checking in\n",
      "\n",
      "https://www.elastic.co/guide/en/elasticsearch/guide/current/running-elasticsearch.html"
     ]
    },
    {
     "cell_type": "code",
     "collapsed": false,
     "input": [
      "from datetime import datetime"
     ],
     "language": "python",
     "metadata": {},
     "outputs": [],
     "prompt_number": 1
    },
    {
     "cell_type": "code",
     "collapsed": false,
     "input": [
      "from elasticsearch import Elasticsearch"
     ],
     "language": "python",
     "metadata": {},
     "outputs": [],
     "prompt_number": 2
    },
    {
     "cell_type": "code",
     "collapsed": false,
     "input": [
      "# by default we connect to localhost:9200\n",
      "es = Elasticsearch()"
     ],
     "language": "python",
     "metadata": {},
     "outputs": [],
     "prompt_number": 3
    },
    {
     "cell_type": "code",
     "collapsed": false,
     "input": [
      "# datetimes will be serialized\n",
      "es.index(index=\"my-index\", doc_type=\"test-type\", id=42, body={\"any\": \"data\", \"timestamp\": datetime.now()})"
     ],
     "language": "python",
     "metadata": {},
     "outputs": [
      {
       "metadata": {},
       "output_type": "pyout",
       "prompt_number": 4,
       "text": [
        "{'_type': 'test-type',\n",
        " 'created': False,\n",
        " '_index': 'my-index',\n",
        " '_version': 9,\n",
        " '_id': '42'}"
       ]
      }
     ],
     "prompt_number": 4
    },
    {
     "cell_type": "code",
     "collapsed": false,
     "input": [
      "doc = {\n",
      "    'author': 'kimchy',\n",
      "    \"email\":      \"john@smith.com\",\n",
      "    \"first_name\": \"John\",\n",
      "    \"last_name\":  \"Smith\",\n",
      "    \"info\": {\n",
      "        \"bio\":         \"Eco-warrior and defender of the weak\",\n",
      "        \"age\":         25,\n",
      "        \"interests\": [ \"dolphins\", \"whales\" ]\n",
      "    },\n",
      "    \"join_date\": \"2014/05/01\",\n",
      "    \"timestamp\": datetime.now()\n",
      "}"
     ],
     "language": "python",
     "metadata": {},
     "outputs": [],
     "prompt_number": 5
    },
    {
     "cell_type": "code",
     "collapsed": false,
     "input": [
      "res = es.index(index=\"test-index\", doc_type='goo', id=1, body=doc)\n",
      "print(res['created'])"
     ],
     "language": "python",
     "metadata": {},
     "outputs": [
      {
       "output_type": "stream",
       "stream": "stdout",
       "text": [
        "False\n"
       ]
      }
     ],
     "prompt_number": 6
    },
    {
     "cell_type": "code",
     "collapsed": false,
     "input": [
      "res = es.get(index=\"test-index\", doc_type='goo', id=1)\n",
      "print(res['_source'])"
     ],
     "language": "python",
     "metadata": {},
     "outputs": [
      {
       "output_type": "stream",
       "stream": "stdout",
       "text": [
        "{'timestamp': '2015-03-10T13:44:47.509018', 'email': 'john@smith.com', 'info': {'bio': 'Eco-warrior and defender of the weak', 'interests': ['dolphins', 'whales'], 'age': 25}, 'author': 'kimchy', 'last_name': 'Smith', 'join_date': '2014/05/01', 'first_name': 'John'}\n"
       ]
      }
     ],
     "prompt_number": 7
    },
    {
     "cell_type": "code",
     "collapsed": false,
     "input": [
      "res = es.search(index=\"test-index\", body={\"query\": {\"match_all\": {}}})\n",
      "print(\"Got %d Hits:\" % res['hits']['total'])"
     ],
     "language": "python",
     "metadata": {},
     "outputs": [
      {
       "output_type": "stream",
       "stream": "stdout",
       "text": [
        "Got 2 Hits:\n"
       ]
      }
     ],
     "prompt_number": 8
    },
    {
     "cell_type": "code",
     "collapsed": false,
     "input": [
      "for hit in res['hits']['hits']:\n",
      "    print(\"%(timestamp)s %(author)s: %(text)s\" % hit[\"_source\"])"
     ],
     "language": "python",
     "metadata": {},
     "outputs": [
      {
       "output_type": "stream",
       "stream": "stdout",
       "text": [
        "2010-10-10T10:10:10 kimchy: Elasticsearch: cool. bonsai cool.\n"
       ]
      },
      {
       "ename": "KeyError",
       "evalue": "'author'",
       "output_type": "pyerr",
       "traceback": [
        "\u001b[0;31m---------------------------------------------------------------------------\u001b[0m\n\u001b[0;31mKeyError\u001b[0m                                  Traceback (most recent call last)",
        "\u001b[0;32m<ipython-input-20-ba18ddbe97fb>\u001b[0m in \u001b[0;36m<module>\u001b[0;34m()\u001b[0m\n\u001b[1;32m      1\u001b[0m \u001b[0;32mfor\u001b[0m \u001b[0mhit\u001b[0m \u001b[0;32min\u001b[0m \u001b[0mres\u001b[0m\u001b[0;34m[\u001b[0m\u001b[0;34m'hits'\u001b[0m\u001b[0;34m]\u001b[0m\u001b[0;34m[\u001b[0m\u001b[0;34m'hits'\u001b[0m\u001b[0;34m]\u001b[0m\u001b[0;34m:\u001b[0m\u001b[0;34m\u001b[0m\u001b[0m\n\u001b[0;32m----> 2\u001b[0;31m     \u001b[0mprint\u001b[0m\u001b[0;34m(\u001b[0m\u001b[0;34m\"%(timestamp)s %(author)s: %(text)s\"\u001b[0m \u001b[0;34m%\u001b[0m \u001b[0mhit\u001b[0m\u001b[0;34m[\u001b[0m\u001b[0;34m\"_source\"\u001b[0m\u001b[0;34m]\u001b[0m\u001b[0;34m)\u001b[0m\u001b[0;34m\u001b[0m\u001b[0m\n\u001b[0m",
        "\u001b[0;31mKeyError\u001b[0m: 'author'"
       ]
      }
     ],
     "prompt_number": 20
    },
    {
     "cell_type": "code",
     "collapsed": false,
     "input": [],
     "language": "python",
     "metadata": {},
     "outputs": []
    }
   ],
   "metadata": {}
  }
 ]
}